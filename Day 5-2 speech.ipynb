{
 "cells": [
  {
   "cell_type": "code",
   "execution_count": null,
   "id": "e1538319",
   "metadata": {},
   "outputs": [],
   "source": [
    "import speech_recognition as sr\n",
    "\n",
    "a=sr.Audiofile(\"地址\")\n",
    "\n",
    "with a as source:\n",
    "    a=sr.Recognizer().record(source)\n",
    "    \n",
    "print(sr.Recognizer().recognize_google(a))"
   ]
  },
  {
   "cell_type": "code",
   "execution_count": null,
   "id": "a4196d3c",
   "metadata": {},
   "outputs": [],
   "source": [
    "#pip install SpeechRecognition\n",
    "#pip install pipwin\n",
    "#pipwin install pyaudio\n",
    "\n",
    "import speech_recognition as sr\n",
    "r = sr.Recognizer()\n",
    "\n",
    "print(\"please say something in 4 seconds... and wait for 4 seconds for the answer.....\")\n",
    "print(\"Accessing Microphone..\")\n",
    "\n",
    "with sr.Microphone() as source:   \n",
    "    r.adjust_for_ambient_noise(source, duration=2)          \n",
    "    print(\"Waiting for you to speak...\")\n",
    "    audio = r.listen(source)                   \n",
    "try:\n",
    "    print(\"You said \" + r.recognize_google(audio))    \n",
    "except:\n",
    "    print(\"Please retry...\")"
   ]
  }
 ],
 "metadata": {
  "kernelspec": {
   "display_name": "Python 3 (ipykernel)",
   "language": "python",
   "name": "python3"
  },
  "language_info": {
   "codemirror_mode": {
    "name": "ipython",
    "version": 3
   },
   "file_extension": ".py",
   "mimetype": "text/x-python",
   "name": "python",
   "nbconvert_exporter": "python",
   "pygments_lexer": "ipython3",
   "version": "3.9.12"
  }
 },
 "nbformat": 4,
 "nbformat_minor": 5
}
