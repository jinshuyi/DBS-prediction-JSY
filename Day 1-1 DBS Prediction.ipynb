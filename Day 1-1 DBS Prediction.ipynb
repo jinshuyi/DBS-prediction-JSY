{
 "cells": [
  {
   "cell_type": "code",
   "execution_count": 1,
   "id": "6e205175",
   "metadata": {},
   "outputs": [],
   "source": [
    "import pandas as pd"
   ]
  },
  {
   "cell_type": "code",
   "execution_count": 2,
   "id": "380bdc27",
   "metadata": {},
   "outputs": [],
   "source": [
    "df=pd.read_csv(\"DBS.csv\")"
   ]
  },
  {
   "cell_type": "code",
   "execution_count": 3,
   "id": "706871d0",
   "metadata": {},
   "outputs": [
    {
     "data": {
      "text/html": [
       "<div>\n",
       "<style scoped>\n",
       "    .dataframe tbody tr th:only-of-type {\n",
       "        vertical-align: middle;\n",
       "    }\n",
       "\n",
       "    .dataframe tbody tr th {\n",
       "        vertical-align: top;\n",
       "    }\n",
       "\n",
       "    .dataframe thead th {\n",
       "        text-align: right;\n",
       "    }\n",
       "</style>\n",
       "<table border=\"1\" class=\"dataframe\">\n",
       "  <thead>\n",
       "    <tr style=\"text-align: right;\">\n",
       "      <th></th>\n",
       "      <th>Unnamed: 0</th>\n",
       "      <th>Date</th>\n",
       "      <th>DBS</th>\n",
       "      <th>SGD</th>\n",
       "    </tr>\n",
       "  </thead>\n",
       "  <tbody>\n",
       "    <tr>\n",
       "      <th>0</th>\n",
       "      <td>1</td>\n",
       "      <td>6/20/2017</td>\n",
       "      <td>20.45</td>\n",
       "      <td>1.38925</td>\n",
       "    </tr>\n",
       "    <tr>\n",
       "      <th>1</th>\n",
       "      <td>2</td>\n",
       "      <td>6/19/2017</td>\n",
       "      <td>20.60</td>\n",
       "      <td>1.38707</td>\n",
       "    </tr>\n",
       "    <tr>\n",
       "      <th>2</th>\n",
       "      <td>3</td>\n",
       "      <td>6/16/2017</td>\n",
       "      <td>20.45</td>\n",
       "      <td>1.38324</td>\n",
       "    </tr>\n",
       "    <tr>\n",
       "      <th>3</th>\n",
       "      <td>4</td>\n",
       "      <td>6/15/2017</td>\n",
       "      <td>20.41</td>\n",
       "      <td>1.38378</td>\n",
       "    </tr>\n",
       "    <tr>\n",
       "      <th>4</th>\n",
       "      <td>5</td>\n",
       "      <td>6/14/2017</td>\n",
       "      <td>20.59</td>\n",
       "      <td>1.37595</td>\n",
       "    </tr>\n",
       "    <tr>\n",
       "      <th>...</th>\n",
       "      <td>...</td>\n",
       "      <td>...</td>\n",
       "      <td>...</td>\n",
       "      <td>...</td>\n",
       "    </tr>\n",
       "    <tr>\n",
       "      <th>117</th>\n",
       "      <td>118</td>\n",
       "      <td>12/30/2016</td>\n",
       "      <td>17.09</td>\n",
       "      <td>1.44655</td>\n",
       "    </tr>\n",
       "    <tr>\n",
       "      <th>118</th>\n",
       "      <td>119</td>\n",
       "      <td>12/29/2016</td>\n",
       "      <td>17.13</td>\n",
       "      <td>1.44814</td>\n",
       "    </tr>\n",
       "    <tr>\n",
       "      <th>119</th>\n",
       "      <td>120</td>\n",
       "      <td>12/28/2016</td>\n",
       "      <td>17.22</td>\n",
       "      <td>1.45018</td>\n",
       "    </tr>\n",
       "    <tr>\n",
       "      <th>120</th>\n",
       "      <td>121</td>\n",
       "      <td>12/27/2016</td>\n",
       "      <td>17.19</td>\n",
       "      <td>1.44954</td>\n",
       "    </tr>\n",
       "    <tr>\n",
       "      <th>121</th>\n",
       "      <td>122</td>\n",
       "      <td>12/23/2016</td>\n",
       "      <td>17.14</td>\n",
       "      <td>1.44766</td>\n",
       "    </tr>\n",
       "  </tbody>\n",
       "</table>\n",
       "<p>122 rows × 4 columns</p>\n",
       "</div>"
      ],
      "text/plain": [
       "     Unnamed: 0        Date    DBS      SGD\n",
       "0             1   6/20/2017  20.45  1.38925\n",
       "1             2   6/19/2017  20.60  1.38707\n",
       "2             3   6/16/2017  20.45  1.38324\n",
       "3             4   6/15/2017  20.41  1.38378\n",
       "4             5   6/14/2017  20.59  1.37595\n",
       "..          ...         ...    ...      ...\n",
       "117         118  12/30/2016  17.09  1.44655\n",
       "118         119  12/29/2016  17.13  1.44814\n",
       "119         120  12/28/2016  17.22  1.45018\n",
       "120         121  12/27/2016  17.19  1.44954\n",
       "121         122  12/23/2016  17.14  1.44766\n",
       "\n",
       "[122 rows x 4 columns]"
      ]
     },
     "execution_count": 3,
     "metadata": {},
     "output_type": "execute_result"
    }
   ],
   "source": [
    "df"
   ]
  },
  {
   "cell_type": "code",
   "execution_count": 4,
   "id": "a5226e22",
   "metadata": {},
   "outputs": [],
   "source": [
    "X=df.loc[:,[\"SGD\"]]"
   ]
  },
  {
   "cell_type": "code",
   "execution_count": 5,
   "id": "235a96ca",
   "metadata": {},
   "outputs": [],
   "source": [
    "Y=df.loc[:,[\"DBS\"]]"
   ]
  },
  {
   "cell_type": "code",
   "execution_count": 6,
   "id": "6878e9eb",
   "metadata": {},
   "outputs": [],
   "source": [
    "from sklearn import linear_model"
   ]
  },
  {
   "cell_type": "code",
   "execution_count": 8,
   "id": "e11a1a1f",
   "metadata": {},
   "outputs": [],
   "source": [
    "model=linear_model.LinearRegression()"
   ]
  },
  {
   "cell_type": "code",
   "execution_count": 9,
   "id": "82f3a1bb",
   "metadata": {},
   "outputs": [
    {
     "data": {
      "text/plain": [
       "LinearRegression()"
      ]
     },
     "execution_count": 9,
     "metadata": {},
     "output_type": "execute_result"
    }
   ],
   "source": [
    "model.fit(X,Y)"
   ]
  },
  {
   "cell_type": "code",
   "execution_count": 10,
   "id": "84e7a021",
   "metadata": {},
   "outputs": [
    {
     "data": {
      "text/plain": [
       "array([[-50.60094302]])"
      ]
     },
     "execution_count": 10,
     "metadata": {},
     "output_type": "execute_result"
    }
   ],
   "source": [
    "model.coef_"
   ]
  },
  {
   "cell_type": "code",
   "execution_count": 11,
   "id": "3ab5ec2b",
   "metadata": {},
   "outputs": [
    {
     "data": {
      "text/plain": [
       "array([90.22858515])"
      ]
     },
     "execution_count": 11,
     "metadata": {},
     "output_type": "execute_result"
    }
   ],
   "source": [
    "model.intercept_"
   ]
  },
  {
   "cell_type": "code",
   "execution_count": 12,
   "id": "92b1cddd",
   "metadata": {},
   "outputs": [],
   "source": [
    "pred = model.predict(X)"
   ]
  },
  {
   "cell_type": "code",
   "execution_count": 13,
   "id": "9ef4bef6",
   "metadata": {},
   "outputs": [],
   "source": [
    "from sklearn.metrics import mean_squared_error"
   ]
  },
  {
   "cell_type": "code",
   "execution_count": 14,
   "id": "f99562f6",
   "metadata": {},
   "outputs": [],
   "source": [
    "rmse=mean_squared_error(Y,pred)**0.5"
   ]
  },
  {
   "cell_type": "code",
   "execution_count": 15,
   "id": "5a1ece93",
   "metadata": {
    "scrolled": true
   },
   "outputs": [
    {
     "data": {
      "text/plain": [
       "0.6283698867042165"
      ]
     },
     "execution_count": 15,
     "metadata": {},
     "output_type": "execute_result"
    }
   ],
   "source": [
    "rmse"
   ]
  },
  {
   "cell_type": "code",
   "execution_count": 16,
   "id": "329aed41",
   "metadata": {},
   "outputs": [],
   "source": [
    "import joblib"
   ]
  },
  {
   "cell_type": "code",
   "execution_count": 17,
   "id": "b84d5696",
   "metadata": {},
   "outputs": [
    {
     "data": {
      "text/plain": [
       "['regression']"
      ]
     },
     "execution_count": 17,
     "metadata": {},
     "output_type": "execute_result"
    }
   ],
   "source": [
    "joblib.dump(model,\"regression\")"
   ]
  },
  {
   "cell_type": "code",
   "execution_count": 18,
   "id": "b24423b5",
   "metadata": {},
   "outputs": [],
   "source": [
    "from sklearn import tree"
   ]
  },
  {
   "cell_type": "code",
   "execution_count": 19,
   "id": "8faea8b7",
   "metadata": {},
   "outputs": [],
   "source": [
    "model = tree.DecisionTreeRegressor()"
   ]
  },
  {
   "cell_type": "code",
   "execution_count": 20,
   "id": "a00fc45c",
   "metadata": {},
   "outputs": [
    {
     "data": {
      "text/plain": [
       "DecisionTreeRegressor()"
      ]
     },
     "execution_count": 20,
     "metadata": {},
     "output_type": "execute_result"
    }
   ],
   "source": [
    "model.fit(X,Y)"
   ]
  },
  {
   "cell_type": "code",
   "execution_count": 21,
   "id": "278604c1",
   "metadata": {},
   "outputs": [],
   "source": [
    "pred = model.predict(X)"
   ]
  },
  {
   "cell_type": "code",
   "execution_count": 22,
   "id": "f0d43dfa",
   "metadata": {},
   "outputs": [],
   "source": [
    "rmse=mean_squared_error(Y,pred)**0.5"
   ]
  },
  {
   "cell_type": "code",
   "execution_count": 23,
   "id": "d6a6e05e",
   "metadata": {},
   "outputs": [
    {
     "data": {
      "text/plain": [
       "0.16306113708124784"
      ]
     },
     "execution_count": 23,
     "metadata": {},
     "output_type": "execute_result"
    }
   ],
   "source": [
    "rmse"
   ]
  },
  {
   "cell_type": "code",
   "execution_count": 24,
   "id": "1608a20e",
   "metadata": {},
   "outputs": [
    {
     "data": {
      "text/plain": [
       "['decision_tree']"
      ]
     },
     "execution_count": 24,
     "metadata": {},
     "output_type": "execute_result"
    }
   ],
   "source": [
    "joblib.dump(model,\"decision_tree\")"
   ]
  }
 ],
 "metadata": {
  "kernelspec": {
   "display_name": "Python 3 (ipykernel)",
   "language": "python",
   "name": "python3"
  },
  "language_info": {
   "codemirror_mode": {
    "name": "ipython",
    "version": 3
   },
   "file_extension": ".py",
   "mimetype": "text/x-python",
   "name": "python",
   "nbconvert_exporter": "python",
   "pygments_lexer": "ipython3",
   "version": "3.9.12"
  }
 },
 "nbformat": 4,
 "nbformat_minor": 5
}
