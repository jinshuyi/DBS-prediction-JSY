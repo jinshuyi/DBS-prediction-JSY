{
 "cells": [
  {
   "cell_type": "code",
   "execution_count": null,
   "id": "d05fbdbc",
   "metadata": {},
   "outputs": [],
   "source": [
    "import pandas as pd\n",
    "df = pd.read_csv(Movie.csv')\n",
    "df = df.replace(\"yes\", 1).replace(\"no\", 0)\n",
    "print(df)\n"
   ]
  },
  {
   "cell_type": "code",
   "execution_count": null,
   "id": "7d9c54b7",
   "metadata": {},
   "outputs": [],
   "source": [
    "from mlxtend.frequent_patterns import apriori, association_rules\n",
    "\n",
    "item = apriori(df, use_colnames=True, min_support=0.2)\n",
    "print(item)\n",
    "\n",
    "rules = association_rules(item, metric = 'confidence', min_threshold=0.6) #next try 0.8\n",
    "print(rules)\n"
   ]
  }
 ],
 "metadata": {
  "kernelspec": {
   "display_name": "Python 3 (ipykernel)",
   "language": "python",
   "name": "python3"
  },
  "language_info": {
   "codemirror_mode": {
    "name": "ipython",
    "version": 3
   },
   "file_extension": ".py",
   "mimetype": "text/x-python",
   "name": "python",
   "nbconvert_exporter": "python",
   "pygments_lexer": "ipython3",
   "version": "3.9.12"
  }
 },
 "nbformat": 4,
 "nbformat_minor": 5
}
