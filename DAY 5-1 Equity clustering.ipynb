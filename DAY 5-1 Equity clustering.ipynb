{
 "cells": [
  {
   "cell_type": "code",
   "execution_count": null,
   "id": "409cd850",
   "metadata": {},
   "outputs": [],
   "source": [
    "import pandas as pd\n",
    "df = pd.read_csv(\"C:/Users/24581/Desktop/南洋理工暑校内容/Equity.csv\")\n",
    "\n",
    "df = df.loc[:, [\"Class\", \"Dividend per Share\", \"10Y Net Income Growth (per Share)\", \"10Y Shareholders Equity Growth (per Share)\", \"EBIT\", \"Net Income\"]]\n",
    "\n",
    "df = df.dropna()\n",
    "\n",
    "Y = df[\"Class\"]\n",
    "X = df.drop(columns=\"Class\")\n",
    "\n",
    "from sklearn import cluster\n",
    "model = cluster.KMeans(n_clusters=2)\n",
    "model.fit(X)\n",
    "pred = model.predict(X)\n",
    "from sklearn.metrics import confusion_matrix\n",
    "cm = confusion_matrix(Y, pred)\n",
    "print((cm[0,1]+cm[1,0])/(sum(sum(cm))))\n"
   ]
  },
  {
   "cell_type": "code",
   "execution_count": null,
   "id": "b88ae3be",
   "metadata": {},
   "outputs": [],
   "source": [
    "from yellowbrick.cluster import KElbowVisualizer\n",
    "\n",
    "v = KElbowVisualizer(model, k=(2,15))\n",
    "\n",
    "v.fit(X)\n",
    "v.show()"
   ]
  },
  {
   "cell_type": "code",
   "execution_count": null,
   "id": "08bac022",
   "metadata": {},
   "outputs": [],
   "source": [
    "from sklearn import linear_model\n",
    "model = linear_model.LogisticRegression()\n",
    "model.fit(X,Y)\n",
    "\n",
    "pred = model.predict(X)\n",
    "cm = confusion_matrix(Y, pred)\n",
    "print((cm[0,0]+cm[1,1])/(sum(sum(cm))))"
   ]
  }
 ],
 "metadata": {
  "kernelspec": {
   "display_name": "Python 3 (ipykernel)",
   "language": "python",
   "name": "python3"
  },
  "language_info": {
   "codemirror_mode": {
    "name": "ipython",
    "version": 3
   },
   "file_extension": ".py",
   "mimetype": "text/x-python",
   "name": "python",
   "nbconvert_exporter": "python",
   "pygments_lexer": "ipython3",
   "version": "3.9.12"
  }
 },
 "nbformat": 4,
 "nbformat_minor": 5
}
