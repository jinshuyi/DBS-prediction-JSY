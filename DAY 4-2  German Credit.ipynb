{
 "cells": [
  {
   "cell_type": "code",
   "execution_count": null,
   "id": "4d030b7d",
   "metadata": {},
   "outputs": [],
   "source": [
    "#import data导入数据\n",
    "import pandas as pd\n",
    "df = pd.read_csv(\"german_credit.csv\")"
   ]
  },
  {
   "cell_type": "code",
   "execution_count": null,
   "id": "29e40cca",
   "metadata": {},
   "outputs": [],
   "source": [
    "#Check null检查空值\n",
    "df.isnull().any()\n",
    "df[\"Creditability\"].nunique()"
   ]
  },
  {
   "cell_type": "code",
   "execution_count": null,
   "id": "52e305b0",
   "metadata": {},
   "outputs": [],
   "source": [
    "#检查可信性数量\n",
    "Y = df.loc[:, [\"Creditability\"]]\n",
    "X = df.drop(columns = \" Creditability \")"
   ]
  },
  {
   "cell_type": "code",
   "execution_count": null,
   "id": "451b3132",
   "metadata": {},
   "outputs": [],
   "source": [
    "from sklearn.feature_selection import SelectKBest, f_regression\n",
    "f = SelectKBest(score_func=f_regression, k=10)\n",
    "f = f.fit(X, Y)\n",
    "f = f.get_support()\n",
    "f = X.columns[f]"
   ]
  },
  {
   "cell_type": "code",
   "execution_count": null,
   "id": "3bf067fb",
   "metadata": {},
   "outputs": [],
   "source": [
    "df = df.loc[:, [\"Creditability\",'Account Balance', 'Duration of Credit Mths',\n",
    "       'Payment Status of Previous Credit', 'Credit Amount',\n",
    "       'Value of Savings and Stocks', 'Length of current employment',\n",
    "       'Sex and Marital Status', 'Most valuable available asset', 'Age',\n",
    "       'Concurrent Credits']]"
   ]
  },
  {
   "cell_type": "code",
   "execution_count": null,
   "id": "d44acd1d",
   "metadata": {},
   "outputs": [],
   "source": [
    "#remove outlier删除异常值\n",
    "df.boxplot()\n",
    "\n",
    "import numpy as np\n",
    "from scipy import stats\n",
    "z = stats.zscore(df.astype(np.float)) #zscore conversion need float\n",
    "z = np.abs(z) #convert all to positive because the parity is not important\n",
    "f = (z < 4).all(axis=1) #3 is your choice, axis =1 means by columns, f is a flag\n",
    "df = df[f]"
   ]
  },
  {
   "cell_type": "code",
   "execution_count": null,
   "id": "f982a8cb",
   "metadata": {},
   "outputs": [],
   "source": [
    "#normalization归一化（使用df.descripe检查是否需要归一化）\n",
    "from scipy import stats\n",
    "import numpy as np \n",
    "\n",
    "df[\"Credit Amount\"] = stats.zscore(df[\"Credit Amount\"].astype(np.float))"
   ]
  },
  {
   "cell_type": "code",
   "execution_count": null,
   "id": "745a8759",
   "metadata": {},
   "outputs": [],
   "source": [
    "#分类输入-使用虚拟变量-如果过于分类，则使用值计数在Y上删除变量检查不平衡-如果需要，仅在列车组上应用过采样SMOTE\n",
    "df[\"Sex and Marital Status\"].value_counts()\n",
    "\n",
    "dummy = pd.get_dummies(df[\"Sex and Marital Status\"])\n",
    "df = df.merge(dummy, left_index=True, right_index=True)\n",
    "df.drop(columns=\"Sex and Marital Status\")"
   ]
  },
  {
   "cell_type": "code",
   "execution_count": null,
   "id": "922aa1f1",
   "metadata": {},
   "outputs": [],
   "source": [
    "Y.value_counts()"
   ]
  },
  {
   "cell_type": "code",
   "execution_count": null,
   "id": "58aee991",
   "metadata": {},
   "outputs": [],
   "source": [
    "X=df.drop(columns=\"Creditability\")"
   ]
  },
  {
   "cell_type": "code",
   "execution_count": null,
   "id": "15ad4b15",
   "metadata": {},
   "outputs": [],
   "source": [
    "Y=df.loc[:,[\"Creditability\"]]"
   ]
  },
  {
   "cell_type": "code",
   "execution_count": null,
   "id": "fdf7cc90",
   "metadata": {},
   "outputs": [],
   "source": [
    "from sklearn.model_selection import train_test_split"
   ]
  },
  {
   "cell_type": "code",
   "execution_count": null,
   "id": "80212e43",
   "metadata": {},
   "outputs": [],
   "source": [
    "X_train,X_test,Y_train,Y_test = train_test_split(X,Y，random_state=247)"
   ]
  },
  {
   "cell_type": "code",
   "execution_count": null,
   "id": "8cb2aebe",
   "metadata": {},
   "outputs": [],
   "source": [
    "from sklearn import linear_model"
   ]
  },
  {
   "cell_type": "code",
   "execution_count": null,
   "id": "6923cbe5",
   "metadata": {},
   "outputs": [],
   "source": [
    "model=linear_model.LogisticRegression(random_state=247)"
   ]
  },
  {
   "cell_type": "code",
   "execution_count": null,
   "id": "54a10b49",
   "metadata": {},
   "outputs": [],
   "source": [
    "from sklearn.metrics import confusion_matrix"
   ]
  },
  {
   "cell_type": "code",
   "execution_count": null,
   "id": "a81eac6f",
   "metadata": {},
   "outputs": [],
   "source": [
    "model.fit(X_train, Y_train)\n",
    "pred = model.predict(X_test)\n",
    "cm = confusion_matrix(Y_test,pred)\n",
    "print(\"accuracy is : \", (cm[0,0]+cm[1,1])/(sum(sum(cm))))"
   ]
  },
  {
   "cell_type": "code",
   "execution_count": null,
   "id": "d002ba05",
   "metadata": {},
   "outputs": [],
   "source": [
    "from sklearn import ensemble"
   ]
  },
  {
   "cell_type": "code",
   "execution_count": null,
   "id": "1ee34ae9",
   "metadata": {},
   "outputs": [],
   "source": [
    "model=ensemble.RandomForestClassifier()"
   ]
  },
  {
   "cell_type": "code",
   "execution_count": null,
   "id": "8dd60e06",
   "metadata": {},
   "outputs": [],
   "source": [
    "model.fit(X_train, Y_train)\n",
    "pred = model.predict(X_test)\n",
    "cm = confusion_matrix(Y_test,pred)\n",
    "print(\"accuracy is : \", (cm[0,0]+cm[1,1])/(sum(sum(cm))))"
   ]
  },
  {
   "cell_type": "code",
   "execution_count": null,
   "id": "cbccee1f",
   "metadata": {},
   "outputs": [],
   "source": [
    "model= ensemble.GradientBoostingClassifier()"
   ]
  },
  {
   "cell_type": "code",
   "execution_count": null,
   "id": "e63efa95",
   "metadata": {},
   "outputs": [],
   "source": [
    "model.fit(X_train, Y_train)\n",
    "pred = model.predict(X_test)\n",
    "cm = confusion_matrix(Y_test,pred)\n",
    "print(\"accuracy is : \", (cm[0,0]+cm[1,1])/(sum(sum(cm))))"
   ]
  },
  {
   "cell_type": "code",
   "execution_count": null,
   "id": "e811b028",
   "metadata": {},
   "outputs": [],
   "source": [
    "X_train1,X_validate,Y_train1,Y_validate = train_test_split(X_train,Y_train)"
   ]
  },
  {
   "cell_type": "code",
   "execution_count": null,
   "id": "d0f1ff9c",
   "metadata": {},
   "outputs": [],
   "source": [
    "from sklearn import tree"
   ]
  },
  {
   "cell_type": "code",
   "execution_count": null,
   "id": "e9e582e3",
   "metadata": {},
   "outputs": [],
   "source": [
    "model = tree.DecisionTreeClassifier(max_depth=3)"
   ]
  },
  {
   "cell_type": "code",
   "execution_count": null,
   "id": "227e39e1",
   "metadata": {},
   "outputs": [],
   "source": [
    "from sklearn import neural_network"
   ]
  },
  {
   "cell_type": "code",
   "execution_count": null,
   "id": "8e29d819",
   "metadata": {},
   "outputs": [],
   "source": [
    "model = neural_network.MLPClassifier(max_iter=800)"
   ]
  },
  {
   "cell_type": "code",
   "execution_count": null,
   "id": "a86cf19c",
   "metadata": {},
   "outputs": [],
   "source": [
    "model.fit(X_train, Y_train)\n",
    "pred = model.predict(X_test)\n",
    "cm = confusion_matrix(Y_test,pred)\n",
    "print(\"accuracy is : \", (cm[0,0]+cm[1,1])/(sum(sum(cm))))"
   ]
  }
 ],
 "metadata": {
  "kernelspec": {
   "display_name": "Python 3 (ipykernel)",
   "language": "python",
   "name": "python3"
  },
  "language_info": {
   "codemirror_mode": {
    "name": "ipython",
    "version": 3
   },
   "file_extension": ".py",
   "mimetype": "text/x-python",
   "name": "python",
   "nbconvert_exporter": "python",
   "pygments_lexer": "ipython3",
   "version": "3.9.12"
  }
 },
 "nbformat": 4,
 "nbformat_minor": 5
}
