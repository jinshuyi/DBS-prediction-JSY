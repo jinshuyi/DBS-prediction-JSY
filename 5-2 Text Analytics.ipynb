{
 "cells": [
  {
   "cell_type": "code",
   "execution_count": null,
   "id": "81415b08",
   "metadata": {},
   "outputs": [],
   "source": [
    "from textblob import TextBlob\n",
    "\n",
    "d = input(“please enter the text : ”)\n",
    "\n",
    "TextBlob(d).sentiment\n",
    "\n",
    "Alternatively\n",
    "\n",
    "#open text file in read mode\n",
    "f = open(“Tesla News.txt\")\n",
    " \n",
    "#read whole file to a string\n",
    "d = f.read()\n"
   ]
  }
 ],
 "metadata": {
  "kernelspec": {
   "display_name": "Python 3 (ipykernel)",
   "language": "python",
   "name": "python3"
  },
  "language_info": {
   "codemirror_mode": {
    "name": "ipython",
    "version": 3
   },
   "file_extension": ".py",
   "mimetype": "text/x-python",
   "name": "python",
   "nbconvert_exporter": "python",
   "pygments_lexer": "ipython3",
   "version": "3.9.12"
  }
 },
 "nbformat": 4,
 "nbformat_minor": 5
}
