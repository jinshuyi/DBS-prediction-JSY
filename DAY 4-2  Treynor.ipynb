{
 "cells": [
  {
   "cell_type": "code",
   "execution_count": null,
   "id": "cc449d94",
   "metadata": {},
   "outputs": [],
   "source": [
    "import pandas as pd\n",
    "df = pd.read_csv(\"Treynor.csv\")\n"
   ]
  },
  {
   "cell_type": "code",
   "execution_count": null,
   "id": "eaca4f83",
   "metadata": {},
   "outputs": [],
   "source": [
    "df.isnull().any()"
   ]
  },
  {
   "cell_type": "code",
   "execution_count": null,
   "id": "c73cc56a",
   "metadata": {},
   "outputs": [],
   "source": [
    "c = df.corr()\n",
    "c = abs(c[\"category_treynor_ratio_10years\"])\n",
    "#Selecting highly correlated features\n",
    "f = c[c>0.1]\n",
    "f.sort_values()\n"
   ]
  },
  {
   "cell_type": "code",
   "execution_count": null,
   "id": "dc29b961",
   "metadata": {},
   "outputs": [],
   "source": [
    "df = df.loc[:,[\"asset_others\", \"price_earnings_ratio\", 'sector_communication_services',  \"category_treynor_ratio_10years\"]]"
   ]
  },
  {
   "cell_type": "code",
   "execution_count": null,
   "id": "77b121d7",
   "metadata": {},
   "outputs": [],
   "source": [
    "#remove na\n",
    "df=df.dropna()"
   ]
  },
  {
   "cell_type": "code",
   "execution_count": null,
   "id": "38d9c641",
   "metadata": {},
   "outputs": [],
   "source": [
    "df.boxplot()"
   ]
  },
  {
   "cell_type": "code",
   "execution_count": null,
   "id": "48b42069",
   "metadata": {},
   "outputs": [],
   "source": [
    "X = df.iloc[:, 0:3]\n",
    "Y = df.iloc[:, 3]"
   ]
  },
  {
   "cell_type": "code",
   "execution_count": null,
   "id": "fa031c6a",
   "metadata": {},
   "outputs": [],
   "source": [
    "from sklearn import tree\n",
    "model = tree.DecisionTreeRegressor()\n",
    "\n",
    "model.fit(X_train, Y_train)\n",
    "pred = model.predict(X_train)\n",
    "rmse=mean_squared_error(pred, Y_train)**0.5\n",
    "print(rmse)\n",
    "\n",
    "pred=model.predict(X_test)\n",
    "rmse=mean_squared_error(pred, Y_test)**0.5\n",
    "print(rmse)\n"
   ]
  },
  {
   "cell_type": "code",
   "execution_count": null,
   "id": "cb6c7108",
   "metadata": {},
   "outputs": [],
   "source": [
    "from sklearn import tre"
   ]
  },
  {
   "cell_type": "code",
   "execution_count": null,
   "id": "3fe48af2",
   "metadata": {},
   "outputs": [],
   "source": [
    "from sklearn import ensemble\n",
    "model = ensemble.RandomForestRegressor()\n",
    "model.fit(X_train, Y_train)\n",
    "pred = model.predict(X_train)\n",
    "pred=model.predict(X_test)\n",
    "rmse=mean_squared_error(pred, Y_test)**0.5\n",
    "print(rmse)\n"
   ]
  }
 ],
 "metadata": {
  "kernelspec": {
   "display_name": "Python 3 (ipykernel)",
   "language": "python",
   "name": "python3"
  },
  "language_info": {
   "codemirror_mode": {
    "name": "ipython",
    "version": 3
   },
   "file_extension": ".py",
   "mimetype": "text/x-python",
   "name": "python",
   "nbconvert_exporter": "python",
   "pygments_lexer": "ipython3",
   "version": "3.9.12"
  }
 },
 "nbformat": 4,
 "nbformat_minor": 5
}
