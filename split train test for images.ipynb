{
 "cells": [
  {
   "cell_type": "code",
   "execution_count": null,
   "id": "e15e7fc1",
   "metadata": {},
   "outputs": [],
   "source": [
    "import splitfolders\n",
    "input_folder=\"C:/Users/24581/MNIST Medical Images(6 classess)\"\n",
    "output=\"C:/Users/24581/MNIST Medical Images(train test images)\"\n",
    "splitfolders.ratio(input_folder,output=output, seed=42,ratio=(.7, .1, .2))"
   ]
  },
  {
   "cell_type": "code",
   "execution_count": null,
   "id": "7328f0f5",
   "metadata": {},
   "outputs": [],
   "source": [
    "!pip install split-folders"
   ]
  }
 ],
 "metadata": {
  "kernelspec": {
   "display_name": "Python 3 (ipykernel)",
   "language": "python",
   "name": "python3"
  },
  "language_info": {
   "codemirror_mode": {
    "name": "ipython",
    "version": 3
   },
   "file_extension": ".py",
   "mimetype": "text/x-python",
   "name": "python",
   "nbconvert_exporter": "python",
   "pygments_lexer": "ipython3",
   "version": "3.9.12"
  }
 },
 "nbformat": 4,
 "nbformat_minor": 5
}
