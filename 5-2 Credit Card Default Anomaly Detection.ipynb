{
 "cells": [
  {
   "cell_type": "code",
   "execution_count": null,
   "id": "9474b65e",
   "metadata": {},
   "outputs": [],
   "source": [
    "from sklearn.svm import OneClassSVM\n",
    "svm = OneClassSVM(kernel='rbf', gamma = \"auto\", nu=0.45) #refer to next page\n",
    "#https://scikit-learn.org/stable/modules/generated/sklearn.svm.OneClassSVM.html\n",
    "\n",
    "import pandas as pd\n",
    "df = pd.read_csv(\"credit card default II.csv\")\n",
    "df = df.dropna()\n",
    "\n",
    "x = df.loc[:, [\"income\", \"age\", \"loan\"]]\n",
    "y = df.loc[:, [\"default\"]]\n",
    "\n",
    "svm.fit(x)\n",
    "pred = svm.predict(x)\n",
    "\n",
    "pred = pd.DataFrame(pred)\n",
    "pred = pred.replace(1,0) #1 is normal and –1 is abnormal and is default\n",
    "pred = pred.replace(-1,1)\n",
    "from sklearn.metrics import confusion_matrix\n",
    "cm = confusion_matrix(y, pred)\n",
    "accuracy = (cm[0,0]+cm[1,1])/(sum(sum(cm)))\n"
   ]
  },
  {
   "cell_type": "code",
   "execution_count": null,
   "id": "b3efd626",
   "metadata": {},
   "outputs": [],
   "source": [
    "from sklearn import linear_model\n",
    "\n",
    "model = linear_model.LogisticRegression()\n",
    "model.fit(x,y)\n",
    "\n",
    "pred = model.predict(x)\n",
    "cm = confusion_matrix(y, pred)\n",
    "\n",
    "accuracy = (cm[0,0]+cm[1,1])/(sum(sum(cm)))\n",
    "accuracy\n"
   ]
  }
 ],
 "metadata": {
  "kernelspec": {
   "display_name": "Python 3 (ipykernel)",
   "language": "python",
   "name": "python3"
  },
  "language_info": {
   "codemirror_mode": {
    "name": "ipython",
    "version": 3
   },
   "file_extension": ".py",
   "mimetype": "text/x-python",
   "name": "python",
   "nbconvert_exporter": "python",
   "pygments_lexer": "ipython3",
   "version": "3.9.12"
  }
 },
 "nbformat": 4,
 "nbformat_minor": 5
}
