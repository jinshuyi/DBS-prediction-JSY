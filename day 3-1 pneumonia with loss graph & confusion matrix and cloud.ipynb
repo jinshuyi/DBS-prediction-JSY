{
 "cells": [
  {
   "cell_type": "code",
   "execution_count": null,
   "id": "320a3e3c",
   "metadata": {},
   "outputs": [],
   "source": [
    "train_root  = \"C:/Users/24581/Pneumonia/Training\"\n",
    "test_root = \"C:/Users/24581/Pneumonia/Test\"\n",
    "print(train_root)"
   ]
  },
  {
   "cell_type": "code",
   "execution_count": null,
   "id": "c735c1ba",
   "metadata": {},
   "outputs": [],
   "source": [
    "batch_size = 5"
   ]
  },
  {
   "cell_type": "code",
   "execution_count": null,
   "id": "b8009980",
   "metadata": {},
   "outputs": [],
   "source": [
    "from keras.preprocessing.image import ImageDataGenerator\n",
    "\n",
    "Generator = ImageDataGenerator()\n",
    "train_data = Generator.flow_from_directory(train_root, (150, 150), batch_size=batch_size, shuffle= False)\n",
    "test_data = Generator.flow_from_directory(test_root, (150, 150), batch_size=batch_size, shuffle= False)"
   ]
  },
  {
   "cell_type": "code",
   "execution_count": null,
   "id": "78d69f4d",
   "metadata": {},
   "outputs": [],
   "source": [
    "import tensorflow as tf\n",
    "from matplotlib.pyplot import imshow\n",
    "import os\n",
    "\n",
    "im = train_data[0][0][1]\n",
    "img = tf.keras.preprocessing.image.array_to_img(im)\n",
    "imshow(img)\n",
    "\n",
    "num_classes = len([i for i in os.listdir(train_root)])\n",
    "print(num_classes)"
   ]
  },
  {
   "cell_type": "code",
   "execution_count": null,
   "id": "df18511c",
   "metadata": {},
   "outputs": [],
   "source": [
    "import keras\n",
    "from keras.datasets import mnist\n",
    "from keras.models import Sequential\n",
    "from keras.layers import Dense, Dropout, Flatten\n",
    "from keras.layers import Conv2D, MaxPooling2D\n",
    "\n",
    "model = Sequential()\n",
    "\n",
    "model.add(Conv2D(32, (3, 3), input_shape=(150, 150, 3), activation='relu'))\n",
    "model.add(MaxPooling2D(pool_size=(2, 2), strides=2))\n",
    "model.add(Dropout(0.05))\n",
    "\n",
    "model.add(Conv2D(32, (3, 3), activation='relu'))\n",
    "model.add(MaxPooling2D(pool_size=(2, 2), strides=2))\n",
    "model.add(Dropout(0.05))\n",
    "\n",
    "model.add(Conv2D(48, (3, 3),activation='relu'))\n",
    "model.add(MaxPooling2D(pool_size=(2, 2), strides=2))\n",
    "model.add(Dropout(0.2))\n",
    "\n",
    "model.add(Conv2D(48, (4, 4), activation='relu'))\n",
    "model.add(MaxPooling2D(pool_size=(2, 2), strides=2))\n",
    "model.add(Dropout(0.2))\n",
    "\n",
    "model.add(Flatten())\n",
    "\n",
    "model.add(Dense(512, activation='relu'))\n",
    "model.add(Dropout(0.2))\n",
    "\n",
    "\n",
    "model.add(Dense(num_classes, activation=\"softmax\"))\n",
    "model.summary()\n"
   ]
  },
  {
   "cell_type": "code",
   "execution_count": null,
   "id": "5baed6d9",
   "metadata": {},
   "outputs": [],
   "source": [
    "#remove optimizer if needed\n",
    "model.compile(loss=keras.losses.categorical_crossentropy, optimizer=keras.optimizers.Adam(), metrics=['accuracy'])\n",
    "history= model.fit(train_data, batch_size = batch_size, epochs=4)"
   ]
  },
  {
   "cell_type": "code",
   "execution_count": null,
   "id": "2e1ba56e",
   "metadata": {},
   "outputs": [],
   "source": [
    "score = model.evaluate(test_data)\n",
    "print(score)\n"
   ]
  },
  {
   "cell_type": "code",
   "execution_count": null,
   "id": "79b21548",
   "metadata": {},
   "outputs": [],
   "source": [
    "import matplotlib.pyplot as plt\n",
    "plt.plot(history.history['accuracy'])\n",
    "#plt.plot(history.history['val_accuracy'])\n",
    "plt.title('model accuracy')\n",
    "plt.ylabel('accuracy')\n",
    "plt.xlabel('epoch')\n",
    "plt.legend(['train', 'val'], loc='upper left')\n",
    "plt.show()\n"
   ]
  },
  {
   "cell_type": "code",
   "execution_count": null,
   "id": "325636b6",
   "metadata": {},
   "outputs": [],
   "source": [
    "plt.plot(history.history['loss'])\n",
    "#plt.plot(history.history['val_loss'])\n",
    "plt.title('model loss')\n",
    "plt.ylabel('loss')\n",
    "plt.xlabel('epoch')\n",
    "plt.legend(['train', 'val'], loc='upper left')\n",
    "plt.show()\n"
   ]
  },
  {
   "cell_type": "code",
   "execution_count": null,
   "id": "6a809b26",
   "metadata": {},
   "outputs": [],
   "source": [
    "import seaborn as sns\n",
    "\n",
    "pred = model.predict_classes(test_data)\n",
    "from sklearn.metrics import confusion_matrix\n",
    "cm = confusion_matrix(test_data.classes, pred)\n",
    "sns.heatmap(cm, annot=True)\n"
   ]
  },
  {
   "cell_type": "code",
   "execution_count": null,
   "id": "acc5e15c",
   "metadata": {},
   "outputs": [],
   "source": [
    "print((cm[0,0]+cm[1,1])/(sum(sum(cm))))\n"
   ]
  },
  {
   "cell_type": "code",
   "execution_count": null,
   "id": "3fc6ff70",
   "metadata": {},
   "outputs": [],
   "source": [
    "from keras.models import save_model\n",
    "save_model(model, \"Pneumonia\")\n"
   ]
  },
  {
   "cell_type": "code",
   "execution_count": null,
   "id": "44e2fd63",
   "metadata": {},
   "outputs": [],
   "source": [
    "from keras.models import load_model\n",
    "from PIL import Image #use PIL\n",
    "import numpy as np\n",
    "\n",
    "model = load_model(\"Pneumonia\")\n",
    "\n",
    "img=Image.open(\"C:/Users/24581/Pneumonia\")\n",
    "img.resize((150,150))\n",
    "img = np.asarray(img, dtype=\"float32\") #need to transfer to np to reshape\n",
    "img = img.reshape(1, img.shape[0], img.shape[1], img.shape[2]) #rgb to reshape to 1,100,100,3\n",
    "img.shape\n",
    "print(model.predict(img))\n"
   ]
  }
 ],
 "metadata": {
  "kernelspec": {
   "display_name": "Python 3 (ipykernel)",
   "language": "python",
   "name": "python3"
  },
  "language_info": {
   "codemirror_mode": {
    "name": "ipython",
    "version": 3
   },
   "file_extension": ".py",
   "mimetype": "text/x-python",
   "name": "python",
   "nbconvert_exporter": "python",
   "pygments_lexer": "ipython3",
   "version": "3.9.12"
  }
 },
 "nbformat": 4,
 "nbformat_minor": 5
}
